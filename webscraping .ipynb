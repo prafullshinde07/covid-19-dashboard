{
 "cells": [
  {
   "cell_type": "code",
   "execution_count": 4,
   "id": "c48cd81b",
   "metadata": {},
   "outputs": [],
   "source": [
    "import requests\n",
    "import pandas as pd\n",
    "from bs4 import BeautifulSoup"
   ]
  },
  {
   "cell_type": "code",
   "execution_count": 5,
   "id": "5dbb6b04",
   "metadata": {},
   "outputs": [],
   "source": [
    "url=\"https://www.worldometers.info/coronavirus/\"\n",
    "data=requests.get(url)\n",
    "soup=BeautifulSoup(data.text,'html5lib')"
   ]
  },
  {
   "cell_type": "code",
   "execution_count": 8,
   "id": "c5b40f08",
   "metadata": {},
   "outputs": [
    {
     "name": "stdout",
     "output_type": "stream",
     "text": [
      "{'Coronavirus Cases': '189,785,698', 'Deaths': '4,084,260', 'Recovered': '173,192,828'}\n"
     ]
    }
   ],
   "source": [
    "covid_dict={}\n",
    "div=soup.find_all(\"div\",{\"id\":\"maincounter-wrap\"})\n",
    "for i in div:\n",
    "  content_div=i.find(\"div\",{\"class\":\"maincounter-number\"})\n",
    "  covid_dict[i.find(\"h1\").text.replace(\":\",\"\").strip()]=content_div.find(\"span\").text.strip()\n",
    "print(covid_dict)"
   ]
  },
  {
   "cell_type": "code",
   "execution_count": null,
   "id": "12a2def7",
   "metadata": {},
   "outputs": [],
   "source": []
  },
  {
   "cell_type": "code",
   "execution_count": 22,
   "id": "294fa226",
   "metadata": {},
   "outputs": [
    {
     "name": "stdout",
     "output_type": "stream",
     "text": [
      "['Country,Other', 'TotalCases', 'NewCases', 'TotalDeaths', 'NewDeaths', 'TotalRecovered', 'NewRecovered', 'ActiveCases', 'Serious,Critical', 'TotCases/1M pop', 'Deaths/1M pop', 'TotalTests', 'Tests/1M pop', 'Population']\n"
     ]
    }
   ],
   "source": [
    "tables = soup.find_all('table')\n",
    "table_header = tables[0].find_all('th')\n",
    "table_head = []\n",
    "for i in range(15):\n",
    "  if i != 0:\n",
    "    table_head.append(table_header[i].text.replace(\"\\n\",\"\").replace(\"\\xa0\",\"\"))\n",
    "print(table_head)"
   ]
  },
  {
   "cell_type": "code",
   "execution_count": 23,
   "id": "743c4ba3",
   "metadata": {},
   "outputs": [],
   "source": [
    "Covid_data = pd.DataFrame(columns=table_head)\n",
    "for row in tables[0].tbody.find_all('tr'):\n",
    "  col = row.find_all('td')\n",
    "  if (col != []):\n",
    "    country = col[1].text.strip()\n",
    "    totalCases = col[2].text.strip()\n",
    "    newCases = col[3].text.strip()\n",
    "    totalDeaths = col[4].text.strip()\n",
    "    newDeaths = col[5].text.strip()\n",
    "    totalRecovered = col[6].text.strip()\n",
    "    newRecovered = col[7].text.strip()\n",
    "    activeCases = col[8].text.strip()\n",
    "    serious = col[9].text.strip()\n",
    "    totalCases_per_m = col[10].text.strip()\n",
    "    deaths = col[11].text.strip()\n",
    "    totalTests = col[12].text.strip()\n",
    "    tests_per_m = col[13].text.strip()\n",
    "    population = col[14].text.strip()\n",
    "    Covid_data = Covid_data.append({\"Country,Other\":country,\"TotalCases\":totalCases,\"NewCases\":newCases,\n",
    "                                    \"TotalDeaths\":totalDeaths,\"NewDeaths\":newDeaths,\"TotalRecovered\":totalRecovered,\n",
    "                                    \"NewRecovered\":newRecovered,\"ActiveCases\":activeCases,\"Serious,Critical\":serious,\n",
    "                                    \"TotCases/1M pop\":totalCases_per_m,\"Deaths/1M pop\":deaths,\"TotalTests\":totalTests,\n",
    "                                    \"Tests/1M pop\":tests_per_m,\"Population\":population},ignore_index=True)"
   ]
  },
  {
   "cell_type": "code",
   "execution_count": 24,
   "id": "7e3bc580",
   "metadata": {},
   "outputs": [],
   "source": [
    "Covid_data.drop(Covid_data.index[:7],inplace=True)"
   ]
  },
  {
   "cell_type": "code",
   "execution_count": 25,
   "id": "a08d411f",
   "metadata": {},
   "outputs": [],
   "source": [
    "Covid_data.to_csv(\"Covid_data.csv\",index=False)"
   ]
  },
  {
   "cell_type": "code",
   "execution_count": null,
   "id": "ef1c8961",
   "metadata": {},
   "outputs": [],
   "source": []
  },
  {
   "cell_type": "code",
   "execution_count": null,
   "id": "6d8a6487",
   "metadata": {},
   "outputs": [],
   "source": []
  }
 ],
 "metadata": {
  "kernelspec": {
   "display_name": "Python 3",
   "language": "python",
   "name": "python3"
  },
  "language_info": {
   "codemirror_mode": {
    "name": "ipython",
    "version": 3
   },
   "file_extension": ".py",
   "mimetype": "text/x-python",
   "name": "python",
   "nbconvert_exporter": "python",
   "pygments_lexer": "ipython3",
   "version": "3.8.8"
  }
 },
 "nbformat": 4,
 "nbformat_minor": 5
}
